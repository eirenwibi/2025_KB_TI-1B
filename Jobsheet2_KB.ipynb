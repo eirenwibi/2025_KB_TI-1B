{
  "nbformat": 4,
  "nbformat_minor": 0,
  "metadata": {
    "colab": {
      "provenance": [],
      "authorship_tag": "ABX9TyNKBPd48j5C/utXiKzKN5p5",
      "include_colab_link": true
    },
    "kernelspec": {
      "name": "python3",
      "display_name": "Python 3"
    },
    "language_info": {
      "name": "python"
    }
  },
  "cells": [
    {
      "cell_type": "markdown",
      "metadata": {
        "id": "view-in-github",
        "colab_type": "text"
      },
      "source": [
        "<a href=\"https://colab.research.google.com/github/eirenwibi/2025_KB_TI-1B/blob/main/Jobsheet2_KB.ipynb\" target=\"_parent\"><img src=\"https://colab.research.google.com/assets/colab-badge.svg\" alt=\"Open In Colab\"/></a>"
      ]
    },
    {
      "cell_type": "markdown",
      "source": [
        "#02. Operasi Matematika menggunakan Python"
      ],
      "metadata": {
        "id": "im6Xfn9NouZx"
      }
    },
    {
      "cell_type": "markdown",
      "source": [
        "##a. Mendapatkan nilai minimum dan maksimum"
      ],
      "metadata": {
        "id": "WIzKMh1Cq1a0"
      }
    },
    {
      "cell_type": "code",
      "source": [
        "x = min(5, 10, 25)\n",
        "y = max(6, 12, 18)\n",
        "print(x, y)"
      ],
      "metadata": {
        "colab": {
          "base_uri": "https://localhost:8080/"
        },
        "id": "aAp7EkPnoeQy",
        "outputId": "302bc1f0-73ef-45ac-e06f-7b198cb39ecd"
      },
      "execution_count": 4,
      "outputs": [
        {
          "output_type": "stream",
          "name": "stdout",
          "text": [
            "5 18\n"
          ]
        }
      ]
    },
    {
      "cell_type": "markdown",
      "source": [
        "##b. Mendapat nilai absolut"
      ],
      "metadata": {
        "id": "6CGNBxKHq9b7"
      }
    },
    {
      "cell_type": "code",
      "source": [
        "x = abs(-7.25)\n",
        "print(x)"
      ],
      "metadata": {
        "colab": {
          "base_uri": "https://localhost:8080/"
        },
        "id": "oFSfEbLooynz",
        "outputId": "afe4b1c8-8fa3-4ea8-8609-4c3068edc7ef"
      },
      "execution_count": 5,
      "outputs": [
        {
          "output_type": "stream",
          "name": "stdout",
          "text": [
            "7.25\n"
          ]
        }
      ]
    },
    {
      "cell_type": "markdown",
      "source": [
        "##c. Mendapat nilai pangkat"
      ],
      "metadata": {
        "id": "hVSF9CiErBax"
      }
    },
    {
      "cell_type": "code",
      "source": [
        "import math\n",
        "x = math.pow(4, 3)\n",
        "print(x)"
      ],
      "metadata": {
        "colab": {
          "base_uri": "https://localhost:8080/"
        },
        "id": "uJ_9SH0lo5VX",
        "outputId": "a1855fd3-62fe-4b63-88a3-ecbb6dfa22cf"
      },
      "execution_count": 6,
      "outputs": [
        {
          "output_type": "stream",
          "name": "stdout",
          "text": [
            "64.0\n"
          ]
        }
      ]
    },
    {
      "cell_type": "markdown",
      "source": [
        "##d. Mendapatkan nilai akar"
      ],
      "metadata": {
        "id": "ixoee9lHrFao"
      }
    },
    {
      "cell_type": "code",
      "source": [
        "import math\n",
        "x = math.sqrt(64)\n",
        "print(x)"
      ],
      "metadata": {
        "colab": {
          "base_uri": "https://localhost:8080/"
        },
        "id": "HxnKTFXzpFNB",
        "outputId": "21df71fe-daaf-45d2-e87d-49fa812b34e7"
      },
      "execution_count": 7,
      "outputs": [
        {
          "output_type": "stream",
          "name": "stdout",
          "text": [
            "8.0\n"
          ]
        }
      ]
    },
    {
      "cell_type": "markdown",
      "source": [
        "##e. Mendapatkan nilai pembulatan"
      ],
      "metadata": {
        "id": "EbG3LmmxrJnv"
      }
    },
    {
      "cell_type": "code",
      "source": [
        "import math\n",
        "x = math.ceil(1.4)\n",
        "y = math.floor(1.4)\n",
        "print(x, y)"
      ],
      "metadata": {
        "colab": {
          "base_uri": "https://localhost:8080/"
        },
        "id": "rQ6sx70FpOo1",
        "outputId": "c03a423b-0e01-4427-c1e5-980fdcb4c916"
      },
      "execution_count": 8,
      "outputs": [
        {
          "output_type": "stream",
          "name": "stdout",
          "text": [
            "2 1\n"
          ]
        }
      ]
    },
    {
      "cell_type": "markdown",
      "source": [
        "##f. Mendapatkan nilai konstanta (PI)"
      ],
      "metadata": {
        "id": "mYVXn349rMzb"
      }
    },
    {
      "cell_type": "code",
      "source": [
        "import math\n",
        "x = math.pi\n",
        "print(x)"
      ],
      "metadata": {
        "colab": {
          "base_uri": "https://localhost:8080/"
        },
        "id": "dOA_TrpwpadI",
        "outputId": "69affc8c-2c47-400a-9aef-444fd1531904"
      },
      "execution_count": 9,
      "outputs": [
        {
          "output_type": "stream",
          "name": "stdout",
          "text": [
            "3.141592653589793\n"
          ]
        }
      ]
    },
    {
      "cell_type": "markdown",
      "source": [
        "#03. Menggunakan Fungsi MATH"
      ],
      "metadata": {
        "id": "T-qz3hxwrR5u"
      }
    },
    {
      "cell_type": "code",
      "source": [
        "import math\n",
        "\n",
        "def main():\n",
        "    x = float(input(\"Masukkan nilai x: \"))\n",
        "    y = float(input(\"Masukkan nilai y (untuk operasi yang memerlukan dua angka): \"))\n",
        "    n = int(input(\"Masukkan nilai n (bilangan bulat untuk faktorial dan permutasi): \"))\n",
        "    k = int(input(\"Masukkan nilai k (bilangan bulat untuk permutasi): \"))\n",
        "\n",
        "    print(\"\\nHasil Perhitungan:\")\n",
        "    print(f\"sin({x}) = {math.sin(x)}\")\n",
        "    print(f\"cos({x}) = {math.cos(x)}\")\n",
        "    print(f\"tan({x}) = {math.tan(x)}\")\n",
        "    print(f\"log({x}) = {math.log(x)}\")\n",
        "    print(f\"log10({x}) = {math.log10(x)}\")\n",
        "    print(f\"degrees({x}) = {math.degrees(x)}\")\n",
        "    print(f\"dist([{x}], [{y}]) = {math.dist([x], [y])}\")\n",
        "    print(f\"factorial({n}) = {math.factorial(n)}\")\n",
        "    print(f\"fmod({x}, {y}) = {math.fmod(x, y)}\")\n",
        "    print(f\"isnan({x}) = {math.isnan(x)}\")\n",
        "    print(f\"gamma({x}) = {math.gamma(x)}\")\n",
        "    print(f\"perm({n}, {k}) = {math.perm(n, k)}\")\n",
        "\n",
        "if __name__ == \"__main__\":\n",
        "    main()"
      ],
      "metadata": {
        "colab": {
          "base_uri": "https://localhost:8080/"
        },
        "id": "oO2c8z57phGW",
        "outputId": "28e655a3-6edb-490d-c59f-5ddb221fa1de"
      },
      "execution_count": 15,
      "outputs": [
        {
          "output_type": "stream",
          "name": "stdout",
          "text": [
            "Masukkan nilai x: 10\n",
            "Masukkan nilai y (untuk operasi yang memerlukan dua angka): 20\n",
            "Masukkan nilai n (bilangan bulat untuk faktorial dan permutasi): 30\n",
            "Masukkan nilai k (bilangan bulat untuk permutasi): 40\n",
            "\n",
            "Hasil Perhitungan:\n",
            "sin(10.0) = -0.5440211108893698\n",
            "cos(10.0) = -0.8390715290764524\n",
            "tan(10.0) = 0.6483608274590866\n",
            "log(10.0) = 2.302585092994046\n",
            "log10(10.0) = 1.0\n",
            "degrees(10.0) = 572.9577951308232\n",
            "dist([10.0], [20.0]) = 10.0\n",
            "factorial(30) = 265252859812191058636308480000000\n",
            "fmod(10.0, 20.0) = 10.0\n",
            "isnan(10.0) = False\n",
            "gamma(10.0) = 362880.0\n",
            "perm(30, 40) = 0\n"
          ]
        }
      ]
    },
    {
      "cell_type": "markdown",
      "source": [
        "#04. Operasi Matriks dan Vektor dengan Python"
      ],
      "metadata": {
        "id": "cUiDiS23s8Hw"
      }
    },
    {
      "cell_type": "markdown",
      "source": [
        "##a. Membuat matriks di Python"
      ],
      "metadata": {
        "id": "o4cLTeAntEXP"
      }
    },
    {
      "cell_type": "code",
      "source": [
        "import numpy as np\n",
        "A = np.array([[80, 30, 25],\n",
        "              [50, 20, 10]])\n",
        "B = np.array([[30, 60, 15],\n",
        "              [10, 30, 30]])\n",
        "hasil = A + B\n",
        "print(hasil)"
      ],
      "metadata": {
        "colab": {
          "base_uri": "https://localhost:8080/"
        },
        "id": "pBgX4bdztHdO",
        "outputId": "3dc45c99-e430-4d60-8dbc-eef94c258d42"
      },
      "execution_count": 16,
      "outputs": [
        {
          "output_type": "stream",
          "name": "stdout",
          "text": [
            "[[110  90  40]\n",
            " [ 60  50  40]]\n"
          ]
        }
      ]
    },
    {
      "cell_type": "markdown",
      "source": [
        "##b. Melakukan operasi dot product"
      ],
      "metadata": {
        "id": "_2oGL9ZLtqKy"
      }
    },
    {
      "cell_type": "code",
      "source": [
        "import numpy as np\n",
        "A = np.array([10, 20, 15])\n",
        "B = np.array([16, 67, 35])\n",
        "hasil = np.dot(A, B)\n",
        "print(hasil)"
      ],
      "metadata": {
        "colab": {
          "base_uri": "https://localhost:8080/"
        },
        "id": "53JQh8O_tjwZ",
        "outputId": "da130d37-473e-450d-e14f-15a678a4cc28"
      },
      "execution_count": 18,
      "outputs": [
        {
          "output_type": "stream",
          "name": "stdout",
          "text": [
            "2025\n"
          ]
        }
      ]
    },
    {
      "cell_type": "markdown",
      "source": [
        "##c. Melakukan operasi cross product"
      ],
      "metadata": {
        "id": "lIBvzvfyud84"
      }
    },
    {
      "cell_type": "code",
      "source": [
        "import numpy as np\n",
        "A = np.array([10, 20, 15])\n",
        "B = np.array([16, 67, 35])\n",
        "hasil = np.cross(A, B)\n",
        "print(hasil)"
      ],
      "metadata": {
        "colab": {
          "base_uri": "https://localhost:8080/"
        },
        "id": "gCVjnJGjuAVm",
        "outputId": "ff2b6b57-1611-45ca-f788-6e5101f12921"
      },
      "execution_count": 19,
      "outputs": [
        {
          "output_type": "stream",
          "name": "stdout",
          "text": [
            "[-305 -110  350]\n"
          ]
        }
      ]
    },
    {
      "cell_type": "markdown",
      "source": [
        "#TUGAS PRAKTIKUM"
      ],
      "metadata": {
        "id": "KKRqzcJPu669"
      }
    },
    {
      "cell_type": "markdown",
      "source": [
        "##01. Tentukan hasil perkalian berikut menggunakan kode python :"
      ],
      "metadata": {
        "id": "nYsJmgPswMQN"
      }
    },
    {
      "cell_type": "code",
      "source": [
        "import numpy as np\n",
        "A = np.array([[3, 1],\n",
        "             [2, 0]])\n",
        "B = np.array([[2,1],\n",
        "             [1, -1]])\n",
        "hasil = np.dot(A, B)\n",
        "print(hasil)"
      ],
      "metadata": {
        "colab": {
          "base_uri": "https://localhost:8080/"
        },
        "id": "QsNhk7bwupLG",
        "outputId": "87df87df-76cd-488a-ecbb-76f2e15c793f"
      },
      "execution_count": 21,
      "outputs": [
        {
          "output_type": "stream",
          "name": "stdout",
          "text": [
            "[[7 2]\n",
            " [4 2]]\n"
          ]
        }
      ]
    },
    {
      "cell_type": "code",
      "source": [
        "import numpy as np\n",
        "B = np.array([[2, 1],\n",
        "              [1, -1]]),\n",
        "C = np.array([[-1, 1, 2],\n",
        "              [2, 0, -1]])\n",
        "hasil = np.dot(B, C)\n",
        "print(hasil)"
      ],
      "metadata": {
        "colab": {
          "base_uri": "https://localhost:8080/"
        },
        "id": "vRa0ZNnJwriT",
        "outputId": "df757b19-a606-4680-a17e-73895c833d36"
      },
      "execution_count": 24,
      "outputs": [
        {
          "output_type": "stream",
          "name": "stdout",
          "text": [
            "[[[ 0  2  3]\n",
            "  [-3  1  3]]]\n"
          ]
        }
      ]
    },
    {
      "cell_type": "markdown",
      "source": [
        "##02. Hitunglah nilai dari soal faktorial berikut :"
      ],
      "metadata": {
        "id": "rx_3lceTx8MY"
      }
    },
    {
      "cell_type": "code",
      "source": [
        "import math\n",
        "\n",
        "faktorial_6 = math.factorial(6)\n",
        "faktorial_8_5 = math.factorial(8) // math.factorial(5)\n",
        "\n",
        "print(f\"Nilai 6! adalah : {faktorial_6}\")\n",
        "print(f\"Nilai 8! / 5! adalah : {faktorial_8_5}\")"
      ],
      "metadata": {
        "colab": {
          "base_uri": "https://localhost:8080/"
        },
        "id": "e7v8zcbuxjrQ",
        "outputId": "ef4be508-85f0-4e1b-9c64-834fd1cd50dc"
      },
      "execution_count": 25,
      "outputs": [
        {
          "output_type": "stream",
          "name": "stdout",
          "text": [
            "Nilai 6! adalah : 720\n",
            "Nilai 8! / 5! adalah : 336\n"
          ]
        }
      ]
    },
    {
      "cell_type": "markdown",
      "source": [
        "##03. Tentukan panjang masing - masing Vektor, hasil perkalian titik A.B, dan AxB"
      ],
      "metadata": {
        "id": "7LGcc6CMz0pV"
      }
    },
    {
      "cell_type": "code",
      "source": [
        "import numpy as np\n",
        "\n",
        "A = np.array([5, 3, 7])\n",
        "B = np.array([12, -3, 1])\n",
        "\n",
        "panjang_A = np.linalg.norm(A)\n",
        "panjang_B = np.linalg.norm(B)\n",
        "\n",
        "dot_product = np.dot(A, B)\n",
        "\n",
        "cross_product = np.cross(A, B)\n",
        "\n",
        "print(f\"Panjang vektor A: {panjang_A:.2f}\")\n",
        "print(f\"Panjang vektor B: {panjang_B:.2f}\")\n",
        "print(f\"A . B = {dot_product}\")\n",
        "print(f\"A x B = {cross_product}\")"
      ],
      "metadata": {
        "colab": {
          "base_uri": "https://localhost:8080/"
        },
        "id": "PFNNBtrMzi8Z",
        "outputId": "56565ebc-1bcc-4be7-da47-49d0cf8ad280"
      },
      "execution_count": 26,
      "outputs": [
        {
          "output_type": "stream",
          "name": "stdout",
          "text": [
            "Panjang vektor A: 9.11\n",
            "Panjang vektor B: 12.41\n",
            "A . B = 58\n",
            "A x B = [ 24  79 -51]\n"
          ]
        }
      ]
    }
  ]
}