{
 "cells": [
  {
   "cell_type": "markdown",
   "id": "c336268b-a5bb-427d-807f-27059c5d702f",
   "metadata": {},
   "source": [
    "# 2. Deteksi Wajah dan Senyum Menggunakan Citra Digital"
   ]
  },
  {
   "cell_type": "code",
   "execution_count": 1,
   "id": "28a2cded-5b1f-4701-96a9-5b251c286597",
   "metadata": {},
   "outputs": [],
   "source": [
    "import cv2"
   ]
  },
  {
   "cell_type": "code",
   "execution_count": 2,
   "id": "eb66c424-ef0b-47eb-9641-fc4502444db5",
   "metadata": {},
   "outputs": [],
   "source": [
    "img = cv2.imread('foto2.jpg')"
   ]
  },
  {
   "cell_type": "code",
   "execution_count": 3,
   "id": "fa50af56-18b3-429f-8fd6-f81686397c50",
   "metadata": {},
   "outputs": [],
   "source": [
    "gray_img = cv2.cvtColor(img,cv2.COLOR_BGR2GRAY)"
   ]
  },
  {
   "cell_type": "code",
   "execution_count": 4,
   "id": "2c029b5b-5de4-48cb-b95c-8ff766f80bce",
   "metadata": {},
   "outputs": [],
   "source": [
    "face_cascade = cv2.CascadeClassifier('haarcascade_frontalface_default.xml')"
   ]
  },
  {
   "cell_type": "code",
   "execution_count": 5,
   "id": "c718e774-20dd-4794-98f3-14fa70c6432e",
   "metadata": {},
   "outputs": [],
   "source": [
    "smile_cascade = cv2.CascadeClassifier('haarcascade_smile.xml')"
   ]
  },
  {
   "cell_type": "code",
   "execution_count": 6,
   "id": "13580c53-dff5-4679-99e2-5c207b99a34d",
   "metadata": {},
   "outputs": [
    {
     "name": "stdout",
     "output_type": "stream",
     "text": [
      "Number of detected faces: 1\n"
     ]
    }
   ],
   "source": [
    "faces = face_cascade.detectMultiScale(gray_img,1.1, 9)\n",
    "print('Number of detected faces:', len(faces))"
   ]
  },
  {
   "cell_type": "code",
   "execution_count": 7,
   "id": "b58ec233-ea2c-4c49-9ea0-ec46a2e39b52",
   "metadata": {},
   "outputs": [
    {
     "name": "stdout",
     "output_type": "stream",
     "text": [
      "smile detected\n"
     ]
    }
   ],
   "source": [
    "for (x,y,w,h) in faces: \n",
    "   # Menggambar persegi pada wajah\n",
    "   cv2.rectangle(img,(x,y),(x+w,y+h),(0,255,255),2)\n",
    "   cv2.putText(img, \"Face\", (x, y), cv2.FONT_HERSHEY_SIMPLEX, 1, (0, 255, 255), 2)\n",
    "   roi_gray = gray_img[y:y+h, x:x+w]\n",
    "   roi_color = img[y:y+h, x:x+w]\n",
    " \n",
    "   # mendeteksi senyum pada ROI wajah\n",
    "   smiles = smile_cascade.detectMultiScale(roi_gray, 1.8, 20)\n",
    "   if len(smiles) > 0:\n",
    "      print(\"smile detected\")\n",
    "      for (sx, sy, sw, sh) in smiles:\n",
    "         cv2.rectangle(roi_color, (sx, sy), ((sx + sw), (sy + sh)), (0, 0, 255), 2)\n",
    "         cv2.putText(roi_color, \"smile\", (sx, sy),\n",
    "         cv2.FONT_HERSHEY_SIMPLEX, 1, (0, 0, 255), 2)\n",
    "   else:\n",
    "      print(\"smile not detected\")"
   ]
  },
  {
   "cell_type": "code",
   "execution_count": null,
   "id": "8474ff0a-fc37-47ea-93f2-cc4b2a6e7033",
   "metadata": {},
   "outputs": [],
   "source": [
    "cv2.imshow('Detected faces', img)\n",
    "cv2.waitKey(0)\n",
    "cv2.destroyAllWindows()"
   ]
  }
 ],
 "metadata": {
  "kernelspec": {
   "display_name": "Python 3 (ipykernel)",
   "language": "python",
   "name": "python3"
  },
  "language_info": {
   "codemirror_mode": {
    "name": "ipython",
    "version": 3
   },
   "file_extension": ".py",
   "mimetype": "text/x-python",
   "name": "python",
   "nbconvert_exporter": "python",
   "pygments_lexer": "ipython3",
   "version": "3.11.9"
  }
 },
 "nbformat": 4,
 "nbformat_minor": 5
}
