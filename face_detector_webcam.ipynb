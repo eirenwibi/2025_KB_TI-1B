{
 "cells": [
  {
   "cell_type": "markdown",
   "id": "89a8054b-e79d-4ad8-a851-8a70a23a6cf2",
   "metadata": {},
   "source": [
    "# 3. Deteksi Wajah Menggunakan Webcam"
   ]
  },
  {
   "cell_type": "code",
   "execution_count": 1,
   "id": "4d9a7d75-36e0-4053-8f7a-5a8229b03cdb",
   "metadata": {},
   "outputs": [],
   "source": [
    "import cv2\n",
    "import numpy as np"
   ]
  },
  {
   "cell_type": "code",
   "execution_count": 2,
   "id": "92a16e3f-aaa6-452d-92fb-b3367d2c9d3b",
   "metadata": {},
   "outputs": [],
   "source": [
    "faceDetect = cv2.CascadeClassifier('haarcascade_frontalface_default.xml')"
   ]
  },
  {
   "cell_type": "code",
   "execution_count": 3,
   "id": "ac982bdc-ec21-4fe3-8089-0b0baf68cbe3",
   "metadata": {},
   "outputs": [],
   "source": [
    "camera = cv2.VideoCapture(0)"
   ]
  },
  {
   "cell_type": "code",
   "execution_count": null,
   "id": "a3663f53-e2da-4dc9-bf67-7db086d480e7",
   "metadata": {},
   "outputs": [],
   "source": [
    "while(True):\n",
    "    ret,img =camera.read()\n",
    "    gray = cv2.cvtColor(img,cv2.COLOR_BGR2GRAY)\n",
    "    faces = faceDetect.detectMultiScale(gray,1.1,5)\n",
    "    for (x,y,w,h) in faces:\n",
    "       cv2.rectangle(img,(x,y), (x+w,y+h),(0,255,0),2)\n",
    "    cv2.imshow(\"Face\",img)\n",
    "    if(cv2.waitKey(1) ==ord('q')):\n",
    "        break"
   ]
  },
  {
   "cell_type": "code",
   "execution_count": null,
   "id": "dd921951-dddb-4d96-acec-8933fd5da43d",
   "metadata": {},
   "outputs": [],
   "source": [
    "camera.release()\n",
    "cv2.destroyAllWindows()"
   ]
  }
 ],
 "metadata": {
  "kernelspec": {
   "display_name": "Python 3 (ipykernel)",
   "language": "python",
   "name": "python3"
  },
  "language_info": {
   "codemirror_mode": {
    "name": "ipython",
    "version": 3
   },
   "file_extension": ".py",
   "mimetype": "text/x-python",
   "name": "python",
   "nbconvert_exporter": "python",
   "pygments_lexer": "ipython3",
   "version": "3.11.9"
  }
 },
 "nbformat": 4,
 "nbformat_minor": 5
}
