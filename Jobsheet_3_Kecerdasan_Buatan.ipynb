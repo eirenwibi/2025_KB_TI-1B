{
  "nbformat": 4,
  "nbformat_minor": 0,
  "metadata": {
    "colab": {
      "provenance": [],
      "authorship_tag": "ABX9TyManuRN5RTt5AuoXYiI+xvD",
      "include_colab_link": true
    },
    "kernelspec": {
      "name": "python3",
      "display_name": "Python 3"
    },
    "language_info": {
      "name": "python"
    }
  },
  "cells": [
    {
      "cell_type": "markdown",
      "metadata": {
        "id": "view-in-github",
        "colab_type": "text"
      },
      "source": [
        "<a href=\"https://colab.research.google.com/github/eirenwibi/2025_KB_TI-1B/blob/main/Jobsheet_3_Kecerdasan_Buatan.ipynb\" target=\"_parent\"><img src=\"https://colab.research.google.com/assets/colab-badge.svg\" alt=\"Open In Colab\"/></a>"
      ]
    },
    {
      "cell_type": "markdown",
      "source": [
        "#Jobsheet 3 : Pengukuran Statistik Deskriptif"
      ],
      "metadata": {
        "id": "1LFlPl9hFbX0"
      }
    },
    {
      "cell_type": "markdown",
      "source": [
        "#Latihan"
      ],
      "metadata": {
        "id": "A74YfJfeFqVZ"
      }
    },
    {
      "cell_type": "markdown",
      "source": [
        "###1. Central Tendency"
      ],
      "metadata": {
        "id": "uUNWNv9xF4FG"
      }
    },
    {
      "cell_type": "markdown",
      "source": [
        "####a. Mendapatkan Nilai Mean"
      ],
      "metadata": {
        "id": "ZhFGCbQvGBiY"
      }
    },
    {
      "cell_type": "code",
      "execution_count": null,
      "metadata": {
        "colab": {
          "base_uri": "https://localhost:8080/"
        },
        "id": "GXNpQGAUFYMf",
        "outputId": "e4543593-05ee-43b9-c930-4f63a2de8290"
      },
      "outputs": [
        {
          "output_type": "stream",
          "name": "stdout",
          "text": [
            "82.11111111111111\n"
          ]
        }
      ],
      "source": [
        "import numpy as np\n",
        "\n",
        "score = [90, 80, 70, 65, 110, 80, 83, 67, 94]\n",
        "\n",
        "x = np.mean(score)\n",
        "print(x)"
      ]
    },
    {
      "cell_type": "markdown",
      "source": [
        "####b. Mendapatkan Nilai Median"
      ],
      "metadata": {
        "id": "g4I0RbORGbk1"
      }
    },
    {
      "cell_type": "code",
      "source": [
        "import numpy as np\n",
        "\n",
        "score = [90, 80, 70, 65, 110, 80, 83, 67, 94]\n",
        "\n",
        "x = np.median(score)\n",
        "print(x)"
      ],
      "metadata": {
        "colab": {
          "base_uri": "https://localhost:8080/"
        },
        "id": "-8uyxRE9GZIf",
        "outputId": "6417e4ee-3259-4ddf-b836-e8b1defb6635"
      },
      "execution_count": null,
      "outputs": [
        {
          "output_type": "stream",
          "name": "stdout",
          "text": [
            "80.0\n"
          ]
        }
      ]
    },
    {
      "cell_type": "markdown",
      "source": [
        "####c. Mendapatkan Nilai Modus/Mode"
      ],
      "metadata": {
        "id": "iL8ZzoutGtoU"
      }
    },
    {
      "cell_type": "code",
      "source": [
        "from scipy import stats\n",
        "\n",
        "score = [90, 80, 70, 65, 110, 80, 83, 67, 94]\n",
        "\n",
        "x = stats.mode(score, keepdims=True)\n",
        "print(\"Modus =\", x.mode)\n",
        "print(\"Jumlah kemunculan Modus =\", x.count)"
      ],
      "metadata": {
        "colab": {
          "base_uri": "https://localhost:8080/"
        },
        "id": "JtfecFfUGrtr",
        "outputId": "f5f974ec-be05-4948-d929-2a6ff7a8d701"
      },
      "execution_count": null,
      "outputs": [
        {
          "output_type": "stream",
          "name": "stdout",
          "text": [
            "Modus = [80]\n",
            "Jumlah kemunculan Modus = [2]\n"
          ]
        }
      ]
    },
    {
      "cell_type": "markdown",
      "source": [
        "###2. Spread"
      ],
      "metadata": {
        "id": "EZdbO7ntHTkb"
      }
    },
    {
      "cell_type": "markdown",
      "source": [
        "####a. Mendapatkan Nilai Range"
      ],
      "metadata": {
        "id": "9v9hzrfFHWua"
      }
    },
    {
      "cell_type": "code",
      "source": [
        "import numpy as np\n",
        "\n",
        "data = [2, 3, 7, 8, 9, 12, 15, 20, 50, 42]\n",
        "\n",
        "minimum = np.min(data)\n",
        "maximum = np.max(data)\n",
        "\n",
        "x = maximum - minimum\n",
        "print(x)"
      ],
      "metadata": {
        "colab": {
          "base_uri": "https://localhost:8080/"
        },
        "id": "Dc9_9vPAHEVf",
        "outputId": "89ac3dab-f7e0-4821-9646-1d94496535a8"
      },
      "execution_count": null,
      "outputs": [
        {
          "output_type": "stream",
          "name": "stdout",
          "text": [
            "48\n"
          ]
        }
      ]
    },
    {
      "cell_type": "markdown",
      "source": [
        "####b. Mendapatkan Nilai Percentile"
      ],
      "metadata": {
        "id": "5QVpyGC1Hsy3"
      }
    },
    {
      "cell_type": "code",
      "source": [
        "import numpy as np\n",
        "\n",
        "data = [90, 80, 70, 65, 110, 80, 83, 67, 94]\n",
        "\n",
        "x = np.percentile(data, 90)\n",
        "print(x)"
      ],
      "metadata": {
        "colab": {
          "base_uri": "https://localhost:8080/"
        },
        "id": "xNcmam9UHrSk",
        "outputId": "56805766-6f53-4327-83ec-6d624542cb67"
      },
      "execution_count": null,
      "outputs": [
        {
          "output_type": "stream",
          "name": "stdout",
          "text": [
            "97.2\n"
          ]
        }
      ]
    },
    {
      "cell_type": "markdown",
      "source": [
        "####c. Mendapatkan Nilai Quartile dan Interquartile Range"
      ],
      "metadata": {
        "id": "uypBWxokH96H"
      }
    },
    {
      "cell_type": "code",
      "source": [
        "import numpy as np\n",
        "\n",
        "data = [3, 4, 4, 5, 5, 6, 6, 7, 8, 8, 9, 10]\n",
        "\n",
        "Q1 = np.median(data[:int(len(data)/2)])\n",
        "Q3 = np.median(data[int(len(data)/2):])\n",
        "IQR = Q3 - Q1\n",
        "Q1, Q3, IQR\n",
        "\n",
        "print(\"Q1 =\", Q1)\n",
        "print(\"Q3 =\", Q3)\n",
        "print(\"IQR =\", IQR)"
      ],
      "metadata": {
        "colab": {
          "base_uri": "https://localhost:8080/"
        },
        "id": "aoN7Adw5H8j2",
        "outputId": "580c1bfa-8296-4031-ebff-32672e5dde04"
      },
      "execution_count": null,
      "outputs": [
        {
          "output_type": "stream",
          "name": "stdout",
          "text": [
            "Q1 = 4.5\n",
            "Q3 = 8.0\n",
            "IQR = 3.5\n"
          ]
        }
      ]
    },
    {
      "cell_type": "markdown",
      "source": [
        "####d. Mendapatkan Nilai Variance dan Standart Deviation"
      ],
      "metadata": {
        "id": "XBoEcLlgJPxh"
      }
    },
    {
      "cell_type": "code",
      "source": [
        "import numpy as np\n",
        "\n",
        "data = [86, 87, 88, 86, 87, 85, 86]\n",
        "\n",
        "mean = np.mean(data)\n",
        "var = np.var(data)\n",
        "std = np.std(data)\n",
        "mean, var, std\n",
        "\n",
        "print(\"Mean =\", mean)\n",
        "print(\"Variance =\", var)\n",
        "print(\"Standart Deviation =\", std)"
      ],
      "metadata": {
        "colab": {
          "base_uri": "https://localhost:8080/"
        },
        "id": "lBvUzsisIn8y",
        "outputId": "79db5694-753c-4fdd-fda1-22162a6584e9"
      },
      "execution_count": null,
      "outputs": [
        {
          "output_type": "stream",
          "name": "stdout",
          "text": [
            "Mean = 86.42857142857143\n",
            "Variance = 0.8163265306122449\n",
            "Standart Deviation = 0.9035079029052513\n"
          ]
        }
      ]
    },
    {
      "cell_type": "markdown",
      "source": [
        "##Tugas Praktikum"
      ],
      "metadata": {
        "id": "0TYvo4CAJ43k"
      }
    },
    {
      "cell_type": "markdown",
      "source": [
        "###1. Pelemparan dadu sebanyak 25 kali. Angka yang keluar datanya adalah : 1 2 3 4 5 5 6 2 3 4 5 6 6 4 3 2 1 4 3 5 6 6 5 4 5. Modus dari data diatas adalah...\n"
      ],
      "metadata": {
        "id": "5L1urg4gJ7uT"
      }
    },
    {
      "cell_type": "code",
      "source": [
        "from scipy import stats\n",
        "\n",
        "score = [1, 2, 3, 4, 5, 5, 6, 2, 3, 4, 5, 6, 6, 4, 3, 2, 1, 4, 3, 5, 6, 6, 5, 4, 5]\n",
        "\n",
        "x = stats.mode(score, keepdims=True)\n",
        "print(\"Modus dari data tersebut adalah = \", x.mode)\n",
        "print(\"Jumlah kemunculan Modus =\", x.count)"
      ],
      "metadata": {
        "colab": {
          "base_uri": "https://localhost:8080/"
        },
        "id": "WZo8elBRJ0uz",
        "outputId": "f1c96b06-cb23-43ee-911b-82a38488b182"
      },
      "execution_count": null,
      "outputs": [
        {
          "output_type": "stream",
          "name": "stdout",
          "text": [
            "Modus dari data tersebut adalah =  [5]\n",
            "Jumlah kemunculan Modus = [6]\n"
          ]
        }
      ]
    },
    {
      "cell_type": "markdown",
      "source": [
        "###2. Diketahui sebuah deret data 9, 10, 11, 6, 8, 7, 7, 5, 4, 5. Tentukan persentil ke-25 dan persentil ke-75!"
      ],
      "metadata": {
        "id": "E9XBAzPtLohE"
      }
    },
    {
      "cell_type": "code",
      "source": [
        "import numpy as np\n",
        "\n",
        "data = [9, 10, 11, 6, 8, 7, 7, 5, 4, 5]\n",
        "\n",
        "x = np.percentile(data, 25)\n",
        "y = np.percentile(data, 75)\n",
        "\n",
        "print(\"Nilai Persentil ke-25 =\", x)\n",
        "print(\"Nilai Persentil ke-75 =\", y)"
      ],
      "metadata": {
        "colab": {
          "base_uri": "https://localhost:8080/"
        },
        "id": "dNTtukUNKzZm",
        "outputId": "78885011-22d4-4eb0-8bad-f890b0ed9130"
      },
      "execution_count": null,
      "outputs": [
        {
          "output_type": "stream",
          "name": "stdout",
          "text": [
            "Nilai Persentil ke-25 = 5.25\n",
            "Nilai Persentil ke-75 = 8.75\n"
          ]
        }
      ]
    },
    {
      "cell_type": "markdown",
      "source": [
        "###3. Pada sebuah kelas memiliki nilai hasil ujian yaitu 50, 54, 62, 50, 52, 59, 61, 63, 65, 10, 53, 63, 65, 50, 59, 62, 50, 51, 57, 60, 63, 65, 65, 53, 99. Beradasarkan data hasil ujian tersebut, tentukan : a.\tUrutkan data dari yang terkecil sampai data yang terbesar. b.\tIdentifikasi nilai first quartile (Q1) dan third quartile (Q3), dan IQR. c.\tTentukan nilai upper bound dan lower bound. d.\tTentukan nilai ujian yang menjadi outlier berdasarkan data hasil ujian diatas\n"
      ],
      "metadata": {
        "id": "8O9BlMnRN1kR"
      }
    },
    {
      "cell_type": "code",
      "source": [
        "data = [50, 54, 62, 50, 52, 59, 61, 63, 65, 10, 53, 63, 65, 50, 59, 62, 50, 51, 57, 60, 63, 65, 65, 53, 99]\n",
        "data.sort()\n",
        "\n",
        "print(\"Urutan data dari yang terkecil ke data yang terbesar adalah \", data)"
      ],
      "metadata": {
        "colab": {
          "base_uri": "https://localhost:8080/"
        },
        "id": "SqYnhBsFMaPH",
        "outputId": "ec3b2c4b-009f-4eca-d06f-c86066e68baf"
      },
      "execution_count": null,
      "outputs": [
        {
          "output_type": "stream",
          "name": "stdout",
          "text": [
            "Urutan data dari yang terkecil ke data yang terbesar adalah  [10, 50, 50, 50, 50, 51, 52, 53, 53, 54, 57, 59, 59, 60, 61, 62, 62, 63, 63, 63, 65, 65, 65, 65, 99]\n"
          ]
        }
      ]
    },
    {
      "cell_type": "code",
      "source": [
        "import numpy as np\n",
        "\n",
        "data = [10, 50, 50, 50, 50, 51, 52, 53, 53, 54, 57, 59, 59, 60, 61, 62, 62, 63, 63, 63, 65, 65, 65, 65, 99]\n",
        "\n",
        "Q1 = np.median(data[:int(len(data)/2)])\n",
        "Q3 = np.median(data[int(len(data)/2):])\n",
        "IQR = Q3 - Q1\n",
        "\n",
        "print(\"Q1 =\", Q1)\n",
        "print(\"Q3 =\", Q3)\n",
        "print(\"IQR =\", IQR)"
      ],
      "metadata": {
        "colab": {
          "base_uri": "https://localhost:8080/"
        },
        "id": "BZB8dVD7Zywg",
        "outputId": "8902bb2e-bbdf-4c1f-c96d-9800ffec417e"
      },
      "execution_count": null,
      "outputs": [
        {
          "output_type": "stream",
          "name": "stdout",
          "text": [
            "Q1 = 51.5\n",
            "Q3 = 63.0\n",
            "IQR = 11.5\n"
          ]
        }
      ]
    },
    {
      "cell_type": "code",
      "source": [
        "lower_bound = Q1 - 1.5 * IQR\n",
        "upper_bound = Q3 + 1.5 * IQR\n",
        "\n",
        "print(\"Lower Bound =\", lower_bound)\n",
        "print(\"Upper Bound =\", upper_bound)"
      ],
      "metadata": {
        "colab": {
          "base_uri": "https://localhost:8080/"
        },
        "id": "0kCJhi2k6RVy",
        "outputId": "dba793bc-1e37-4e6a-ed86-e73d1944a734"
      },
      "execution_count": null,
      "outputs": [
        {
          "output_type": "stream",
          "name": "stdout",
          "text": [
            "Lower Bound = 34.25\n",
            "Upper Bound = 80.25\n"
          ]
        }
      ]
    },
    {
      "cell_type": "code",
      "source": [
        "outliers = [x for x in data if x < lower_bound or x > upper_bound]\n",
        "print(\"Outlier:\", outliers)"
      ],
      "metadata": {
        "colab": {
          "base_uri": "https://localhost:8080/"
        },
        "id": "FMvYEG_o7tPD",
        "outputId": "afc575bc-cd22-459f-fdd0-10c402080a1f"
      },
      "execution_count": null,
      "outputs": [
        {
          "output_type": "stream",
          "name": "stdout",
          "text": [
            "Outlier: [10, 99]\n"
          ]
        }
      ]
    },
    {
      "cell_type": "markdown",
      "source": [
        "###4. Hitunglah standart deviasi dari data berat badan mahasiswa informatika tersebut"
      ],
      "metadata": {
        "id": "Bkewwc8VcOMN"
      }
    },
    {
      "cell_type": "code",
      "source": [
        "import numpy as np\n",
        "\n",
        "# Data kelas dan frekuensi\n",
        "kelas = [(41, 45), (46, 50), (51, 55), (56, 60), (61, 65), (66, 70)]\n",
        "frekuensi = [2, 3, 6, 4, 5, 2]\n",
        "\n",
        "# Hitung titik tengah tiap kelas\n",
        "titik_tengah = [(k[0] + k[1]) / 2 for k in kelas]\n",
        "\n",
        "# Hitung jumlah data\n",
        "n = sum(frekuensi)\n",
        "\n",
        "# Hitung fi * xi dan fi * xi^2\n",
        "fi_xi = [f * x for f, x in zip(frekuensi, titik_tengah)]\n",
        "fi_xi2 = [f * x**2 for f, x in zip(frekuensi, titik_tengah)]\n",
        "\n",
        "# Hitung standar deviasi dengan rumus:\n",
        "# s = sqrt(Σ(fi*xi²)/n - (Σ(fi*xi)/n)²)\n",
        "rata_xi = sum(fi_xi) / n\n",
        "standar_deviasi = np.sqrt((sum(fi_xi2) / n) - (rata_xi ** 2))\n",
        "\n",
        "print(\"Standar Deviasi Berat Badan Mahasiswa Informatika =\", round(standar_deviasi, 2), \"kg\")"
      ],
      "metadata": {
        "colab": {
          "base_uri": "https://localhost:8080/"
        },
        "id": "aukeSoXfaXNx",
        "outputId": "6c7528cf-90b1-47a0-c7a0-8f814b37794a"
      },
      "execution_count": null,
      "outputs": [
        {
          "output_type": "stream",
          "name": "stdout",
          "text": [
            "Standar Deviasi Berat Badan Mahasiswa Informatika = 7.18 kg\n"
          ]
        }
      ]
    }
  ]
}